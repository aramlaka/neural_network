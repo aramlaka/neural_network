{
 "cells": [
  {
   "cell_type": "code",
   "execution_count": 38,
   "metadata": {
    "collapsed": false
   },
   "outputs": [],
   "source": [
    "import math\n",
    "\n",
    "class network(object):\n",
    "    \n",
    "    def __init__(self, initial, weights, bias, target):\n",
    "        self.initial = initial\n",
    "        self.weights = weights\n",
    "        self.bias = bias\n",
    "        self.target = target\n",
    "    \n",
    "    def forward_pass(self):\n",
    "        #degeneracy\n",
    "        i = self.initial\n",
    "        w = self.weights\n",
    "        b = self.bias\n",
    "        t = self.target\n",
    "\n",
    "        total_h1 = (w[0] * i[0]) + (w[1] * i[1]) + (b[0] * 1) \n",
    "        total_h2 = (w[2] * i[0]) + (w[3] * i[1]) + (b[2] * 1)\n",
    "\n",
    "        h1 = 1/(1 + math.e**(-total_h1))\n",
    "        h2 = 1/(1 + math.e**(-total_h2))\n",
    "\n",
    "        total_o1 = (w[4] * h1) + (w[5] * h2) + (b[1] * 1) \n",
    "        total_o2 = (w[6] * h1) + (w[7] * h2) + (b[3] * 1)\n",
    "\n",
    "        o1 = 1/(1 + math.e**(-total_o1))\n",
    "        o2 = 1/(1 + math.e**(-total_o2))\n",
    "\n",
    "        err_o1 = .5 * ((t[0] - o1)**2)\n",
    "        err_o2 = .5 * ((t[1] - o2)**2)\n",
    "        err_t = err_o1 + err_o2\n",
    "\n",
    "        return total_h1, total_h2, h1, h2, total_o1, total_o2, o1, o2, err_o1, err_o2, err_t    \n",
    "    \n",
    "    def backwards_propagate(self, weight):\n",
    "        total_h1, total_h2, h1, h2, total_o1, total_o2, o1, o2, err_o1, err_o2, err_t = self.forward_pass()\n",
    "        \n",
    "        w[4] = -(t[0] - o1)*(1-o1)*h1*\n",
    "        return False"
   ]
  },
  {
   "cell_type": "code",
   "execution_count": 37,
   "metadata": {
    "collapsed": false
   },
   "outputs": [
    {
     "name": "stdout",
     "output_type": "stream",
     "text": [
      "(0.3775, 0.39249999999999996, 0.5932699921071872, 0.596884378259767, 1.10590596705977, 1.2249214040964653, 0.7513650695523157, 0.7729284653214625, 0.274811083176155, 0.023560025583847746, 0.2983711087600027)\n"
     ]
    }
   ],
   "source": [
    "weights = [.15, .2, .25, .3, .4, .45, .5, .55]\n",
    "initial = [.05, .1]\n",
    "bias = [.35, .6, .35, .6]\n",
    "target = [.01, .99]\n",
    "\n",
    "network1 = network(initial, weights, bias, target)\n",
    "\n",
    "print(network.forward_pass())"
   ]
  },
  {
   "cell_type": "code",
   "execution_count": null,
   "metadata": {
    "collapsed": true
   },
   "outputs": [],
   "source": []
  }
 ],
 "metadata": {
  "anaconda-cloud": {},
  "kernelspec": {
   "display_name": "Python [default]",
   "language": "python",
   "name": "python3"
  },
  "language_info": {
   "codemirror_mode": {
    "name": "ipython",
    "version": 3
   },
   "file_extension": ".py",
   "mimetype": "text/x-python",
   "name": "python",
   "nbconvert_exporter": "python",
   "pygments_lexer": "ipython3",
   "version": "3.5.2"
  }
 },
 "nbformat": 4,
 "nbformat_minor": 0
}
